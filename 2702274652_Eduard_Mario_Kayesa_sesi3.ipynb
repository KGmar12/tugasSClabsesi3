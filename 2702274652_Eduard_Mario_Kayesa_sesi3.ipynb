{
  "nbformat": 4,
  "nbformat_minor": 0,
  "metadata": {
    "colab": {
      "provenance": []
    },
    "kernelspec": {
      "name": "python3",
      "display_name": "Python 3"
    },
    "language_info": {
      "name": "python"
    }
  },
  "cells": [
    {
      "cell_type": "code",
      "execution_count": null,
      "metadata": {
        "colab": {
          "base_uri": "https://localhost:8080/"
        },
        "id": "jwwwiHCCKv9h",
        "outputId": "9ea32467-96b9-495c-9571-bfc2aec16306"
      },
      "outputs": [
        {
          "output_type": "stream",
          "name": "stdout",
          "text": [
            "what is your name ? mario\n",
            "Hello  my name is mario\n",
            "when were you born?18\n",
            "i was born on  18 which is mean i am  2005 years old\n"
          ]
        }
      ],
      "source": [
        "name = input(\"what is your name ? \")\n",
        "print(\"Hello  my name is \"+ name)\n",
        "birth_year= input(\"when were you born?\")\n",
        "age = 2023 - int(birth_year)\n",
        "print(\"i was born on \", birth_year, \"which is mean i am \", age, \"years old\")"
      ]
    },
    {
      "cell_type": "code",
      "source": [
        "import numpy as np\n",
        "\n",
        "x = np.array([[1,4,5],[3,5,6]])\n",
        "x"
      ],
      "metadata": {
        "colab": {
          "base_uri": "https://localhost:8080/"
        },
        "id": "A3tEumtcPjVB",
        "outputId": "5f898d96-cdea-4fb2-d125-569bfb576289"
      },
      "execution_count": null,
      "outputs": [
        {
          "output_type": "execute_result",
          "data": {
            "text/plain": [
              "array([[1, 4, 5],\n",
              "       [3, 5, 6]])"
            ]
          },
          "metadata": {},
          "execution_count": 19
        }
      ]
    },
    {
      "cell_type": "code",
      "source": [
        "def my_adder(a ,b ,c):\n",
        "  \"\"\"\n",
        "  fungsi ini untuk coba coba aja\n",
        "  \"\"\"\n",
        "\n",
        "  out = a + b + c\n",
        "\n",
        "  return out\n",
        "\n"
      ],
      "metadata": {
        "id": "lVIJEkNiRMlL"
      },
      "execution_count": null,
      "outputs": []
    },
    {
      "cell_type": "code",
      "source": [
        "my_adder(1,3,4)\n",
        "help(my_adder)"
      ],
      "metadata": {
        "colab": {
          "base_uri": "https://localhost:8080/"
        },
        "id": "gWVev-bmR0JX",
        "outputId": "87808d49-cf0c-4f88-d63d-f1d167062593"
      },
      "execution_count": null,
      "outputs": [
        {
          "output_type": "stream",
          "name": "stdout",
          "text": [
            "Help on function my_adder in module __main__:\n",
            "\n",
            "my_adder(a, b, c)\n",
            "    fungsi ini untuk coba coba aja\n",
            "\n"
          ]
        }
      ]
    },
    {
      "cell_type": "code",
      "source": [
        "def my_thermo (temp, desired_temp):\n",
        "  if temp < desired_temp - 5:\n",
        "    status = 'heat'\n",
        "  elif temp > desired_temp + 5:\n",
        "    status = 'AC'\n",
        "  else:\n",
        "    status = 'off'\n",
        "  return status"
      ],
      "metadata": {
        "id": "0BChmtbAUF9f"
      },
      "execution_count": null,
      "outputs": []
    },
    {
      "cell_type": "code",
      "source": [
        "status = my_thermo(65, 75)\n",
        "print(status)\n"
      ],
      "metadata": {
        "colab": {
          "base_uri": "https://localhost:8080/"
        },
        "id": "1D6_aec2UkNA",
        "outputId": "ccd9805d-bd4b-4ffd-85fe-88ac8a1ab7fb"
      },
      "execution_count": null,
      "outputs": [
        {
          "output_type": "stream",
          "name": "stdout",
          "text": [
            "heat\n"
          ]
        }
      ]
    },
    {
      "cell_type": "code",
      "source": [
        "status = my_thermo(75,65)\n",
        "print(status)\n"
      ],
      "metadata": {
        "colab": {
          "base_uri": "https://localhost:8080/"
        },
        "id": "hnflELRoULR_",
        "outputId": "3f73f7b8-966c-4d9e-dbb5-e35316f530b6"
      },
      "execution_count": null,
      "outputs": [
        {
          "output_type": "stream",
          "name": "stdout",
          "text": [
            "AC\n"
          ]
        }
      ]
    },
    {
      "cell_type": "code",
      "source": [
        "status = my_thermo(65,63)\n",
        "print(status)\n"
      ],
      "metadata": {
        "colab": {
          "base_uri": "https://localhost:8080/"
        },
        "id": "afFOifouUzig",
        "outputId": "7cf6e9f1-83f5-4cac-a9db-aa9af65ccbe4"
      },
      "execution_count": null,
      "outputs": [
        {
          "output_type": "stream",
          "name": "stdout",
          "text": [
            "off\n"
          ]
        }
      ]
    },
    {
      "cell_type": "code",
      "source": [
        "x = 2\n",
        "if x > 1 and x < 3:\n",
        "  y = 1\n",
        "elif x > 3 and x < 6:\n",
        "  y = 2\n",
        "else:\n",
        "  y = 0\n",
        "\n",
        "print(y)"
      ],
      "metadata": {
        "colab": {
          "base_uri": "https://localhost:8080/"
        },
        "id": "ad5odXJxU-yM",
        "outputId": "2c2ecf25-4dbb-4cb1-9a77-f3fde982b466"
      },
      "execution_count": null,
      "outputs": [
        {
          "output_type": "stream",
          "name": "stdout",
          "text": [
            "1\n"
          ]
        }
      ]
    },
    {
      "cell_type": "code",
      "source": [
        "x =2\n",
        "if 1<x<3:\n",
        "  y =1\n",
        "elif 3<x<6 :\n",
        "  y =2\n",
        "else:\n",
        "  y =0\n",
        "\n",
        "print(y)"
      ],
      "metadata": {
        "colab": {
          "base_uri": "https://localhost:8080/"
        },
        "id": "V-Sa0vFNWt4N",
        "outputId": "f4f69e09-bee3-4f82-8a39-bed175a69eef"
      },
      "execution_count": null,
      "outputs": [
        {
          "output_type": "stream",
          "name": "stdout",
          "text": [
            "1\n"
          ]
        }
      ]
    }
  ]
}